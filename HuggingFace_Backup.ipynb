{
  "nbformat": 4,
  "nbformat_minor": 0,
  "metadata": {
    "colab": {
      "private_outputs": true,
      "provenance": [],
      "collapsed_sections": [
        "IZ_JYwvBLrg-",
        "PNF2kdyeO3Dn"
      ],
      "mount_file_id": "1HWCsjAL9sH3lpb-5YW8xzQNNqz_G5eNq",
      "authorship_tag": "ABX9TyMZLo/wimDE93/kLruOLLaq",
      "include_colab_link": true
    },
    "kernelspec": {
      "name": "python3",
      "display_name": "Python 3"
    },
    "language_info": {
      "name": "python"
    }
  },
  "cells": [
    {
      "cell_type": "markdown",
      "metadata": {
        "id": "view-in-github",
        "colab_type": "text"
      },
      "source": [
        "<a href=\"https://colab.research.google.com/github/kieranxsomer/HuggingFace_Backup/blob/main/HuggingFace_Backup.ipynb\" target=\"_parent\"><img src=\"https://colab.research.google.com/assets/colab-badge.svg\" alt=\"Open In Colab\"/></a>"
      ]
    },
    {
      "cell_type": "markdown",
      "source": [
        "# **Hugging Face Backup**\n",
        "<small> An extremely weird fork of content from Nocrypt's notebook by a DID system that has no clue how to code. We'd call it opinionated, but it's not a WebUI, so apart from ElFinder, free users should be able to use this.\n",
        "\n",
        "## ***❤❤❤❤❤❤❤❤❤❤❤***\n",
        "*Quickly upload stuff like merged models to huggingface*\n",
        "-----------------\n",
        "<small>Code yoinked from Nocrypt, notebook literally just has his credits in there because we wanted a seperate notebook for backups besides just the stable diffusion settings. This includes some extra toys like Imjoy-Elfinder and Google Drive mount. We don't know how to code, and there may not be a TON of updates on this.\n",
        "\n",
        "\n",
        "\n",
        "-----------------\n",
        "## ♦♦ **COLAB UPDATES** ♦♦\n",
        "If you've copied this to drive and it's no longer working check here: https://github.com/kieranxsomer/HuggingFace_Backup\n",
        "-----------------\n",
        "### ✅ **Mount Drive!**\n",
        "This is extremely optional, but y'know if you need it! \n",
        "\n",
        "-----------------\n",
        "\n",
        "### ✅ **Imjoy-Elfinder**\n",
        "\n",
        "An optional file viewer that may give you a more visual way of looking at your files. Also good if you need to upload files instead of using terminal or gdrive. \n",
        "\n",
        "-----------------\n",
        "\n",
        "###  ✅ **Hugging Face Hub Options**\n",
        "\n",
        "☢☢ **How to use this colab** ☢☢\n",
        "\n",
        "Scream, because i couldn't get \"THE FUN WAY\" To work.\n",
        "Which is OK,  because the \"MANUAL\" way is faster. \n",
        "There is no need to actually fix code, or anything just copy and paste your details as instructed. \n",
        "\n",
        "☢☢ **MAKE SURE:** ☢☢\n",
        "\n",
        "You create a huggingface token, go to [this link](https://huggingface.co/settings/tokens), then `create new token` or copy available token with the `Write` role.\n",
        "\n",
        "🔼 Run cell `1,2,3`\n",
        "\n",
        "You only need to choose one between `3.2,and 3.3`\n",
        "\n",
        "Note 3.1 was yoinked because right now I don't know how to patch it to work outside of a stable diffusion instance.  If you're using a free colab, try not to use the File Finder - as that's probably considerd a \"REMOTE UI\"\n",
        "\n",
        "Make sure you `MOUNT` your google drive, I've patched in `Imjoy-Elfinder` for kicks. - Visual people like this, I know I do.\n",
        "\n",
        "-----------------\n",
        "**<small> *Forked from LYNN - AND NOCRYPT - Literally just yoinked it from this notebook:* https://colab.research.google.com/drive/1wEa-tS10h4LlDykd87TF5zzpXIIQoCmq**\n",
        "\n",
        "-----------------\n",
        "**WE TAKE NO CREDIT ON THIS. FOLLOW NOCRYPTS STUFF HERE:**\n",
        "\n",
        "[![](https://dcbadge.vercel.app/api/shield/442099748669751297?style=flat)](https://lookup.guru/442099748669751297) [![ko-fi](https://img.shields.io/badge/Ko--fi-F16061?logo=ko-fi&logoColor=white&style=flat)](https://ko-fi.com/nocrypt) [![ko-fi](https://img.shields.io/badge/Patreon-F1465A?logo=patreon&logoColor=white&style=flat)](https://patreon.com/nocrypt) \n",
        "\n",
        "\n",
        "☢ <small> You can find updates on NoCrypt's toys: https://discord.gg/touhouai\n",
        "\n",
        "☢ <small> Earth & Dusk Discord because REASONS: https://discord.gg/5t2kYxt7An\n",
        "\n",
        "-----------------\n",
        "\n",
        "\n",
        "\n",
        "\n",
        "\n",
        "\n",
        "\n",
        "\n",
        "\n"
      ],
      "metadata": {
        "id": "CxgFI41UGzRu"
      }
    },
    {
      "cell_type": "markdown",
      "source": [
        "# Google Drive Mount \n",
        "<small> If you're NOT using drive, but have a way of uploading your files via command line - use the Imjoy-Elfinder section below. \n"
      ],
      "metadata": {
        "id": "IZ_JYwvBLrg-"
      }
    },
    {
      "cell_type": "code",
      "source": [
        "from google.colab import drive\n",
        "drive.mount('/content/drive')"
      ],
      "metadata": {
        "id": "cGrPfIjkH-rQ"
      },
      "execution_count": null,
      "outputs": []
    },
    {
      "cell_type": "markdown",
      "source": [
        "# Imjoy-Elfinder (Optional)\n",
        "<small> Useful if you need to check where files are OR you're not using google drive and have uploaded your files already."
      ],
      "metadata": {
        "id": "PNF2kdyeO3Dn"
      }
    },
    {
      "cell_type": "code",
      "source": [
        "!pip install imjoy-elfinder"
      ],
      "metadata": {
        "id": "JuhG4jksOsf4"
      },
      "execution_count": null,
      "outputs": []
    },
    {
      "cell_type": "code",
      "source": [
        "import threading\n",
        "from google.colab import output\n",
        "from imjoy_elfinder.app import main\n",
        "\n",
        "# start imjoy-elfinder server\n",
        "thread = threading.Thread(target=main, args=[[\"--root-dir=/content\", \"--port=8765\"]])\n",
        "thread.start()\n",
        "\n",
        "# view the \n",
        "output.serve_kernel_port_as_iframe(8765, height='800')"
      ],
      "metadata": {
        "id": "Z-gzXMPGPT5y"
      },
      "execution_count": null,
      "outputs": []
    },
    {
      "cell_type": "code",
      "source": [
        "# open imjoy-elfinder in a new tab\n",
        "output.serve_kernel_port_as_window(8765)"
      ],
      "metadata": {
        "id": "1KGuWqRMPVrf"
      },
      "execution_count": null,
      "outputs": []
    },
    {
      "cell_type": "markdown",
      "source": [
        "# Upload to Huggingface Hub (FUN WAY)\n"
      ],
      "metadata": {
        "id": "Xs1mb1VKLuUW"
      }
    },
    {
      "cell_type": "code",
      "source": [
        "#@title 1. Login to Huggingface hub\n",
        "try:\n",
        "  hub_ok # My packaged dep didn't contains this (but stil have the folder)\n",
        "except:\n",
        "  print(\"Setting up huggingface_hub...\")\n",
        "  !pip install --force-reinstall -qqqq huggingface_hub\n",
        "  hub_ok = True\n",
        "from IPython.display import clear_output\n",
        "from huggingface_hub import login\n",
        "clear_output()\n",
        "\n",
        "#@markdown 1. Of course, you need a Huggingface account first.\n",
        "#@markdown 2. To create a huggingface token, go to [this link](https://huggingface.co/settings/tokens), then `create new token` or copy available token with the `Write` role.\n",
        "\n",
        "write_token = \"\" #@param {type:\"string\"}\n",
        "login(write_token, add_to_git_credential=True)"
      ],
      "metadata": {
        "cellView": "form",
        "id": "1B8DZ_p8IcNh"
      },
      "execution_count": null,
      "outputs": []
    },
    {
      "cell_type": "code",
      "source": [
        "#@title 2. Setup Repo\n",
        "from huggingface_hub.utils import validate_repo_id, HfHubHTTPError\n",
        "from huggingface_hub import HfApi\n",
        "\n",
        "\n",
        "api = HfApi()\n",
        "user = api.whoami(write_token)\n",
        "\n",
        "#@markdown #### If your model repo didn't exist, it will automatically create your repo.\n",
        "repo_name = \"my_entirely_stupid_backup_you_might_wanna_rename_this_section\" #@param{type:\"string\"}\n",
        "make_this_repo_private_if_not_exist = False #@param{type:\"boolean\"}\n",
        "clone_with_git = True #@param{type:\"boolean\"}\n",
        "\n",
        "model_repo = user['name']+\"/\"+repo_name.strip()\n",
        "\n",
        "validate_repo_id(model_repo)\n",
        "\n",
        "if repo_name != \"\":\n",
        "  try:\n",
        "      api.create_repo(repo_id=model_repo, \n",
        "                      private=make_this_repo_private_if_not_exist)\n",
        "      print(\"Model Repo didn't exists, creating repo\")\n",
        "      print(\"Model Repo: \",model_repo,\"created!\\n\")\n",
        "\n",
        "  except HfHubHTTPError as e:\n",
        "      print(f\"Model Repo: {model_repo} exists, skipping create repo\\n\")\n",
        "\n",
        "if clone_with_git:\n",
        "  !git lfs install --skip-smudge\n",
        "  !export GIT_LFS_SKIP_SMUDGE=1\n",
        "  !git clone https://huggingface.co/{model_repo} /content/{repo_name}"
      ],
      "metadata": {
        "cellView": "form",
        "id": "J851eLx6Ii3h"
      },
      "execution_count": null,
      "outputs": []
    },
    {
      "cell_type": "markdown",
      "source": [
        "# Manual Huggingface Uploads\n"
      ],
      "metadata": {
        "id": "jr9aTzQFLmfS"
      }
    },
    {
      "cell_type": "code",
      "source": [
        "#@title 3.2 Upload via huggingface_hub (Manual way)\n",
        "#@markdown If these are not your folder settings, feel free to just copy the path like you would have for the above \"FUN WAY\" section.\n",
        "\n",
        "#@markdown All paths for easier access:<br>\n",
        "#@markdown /content/sdw/models/Stable-diffusion<br>\n",
        "#@markdown /content/sdw/models/VAE<br>\n",
        "#@markdown /content/sdw/models/Lora<br>\n",
        "#@markdown /content/sdw/embeddings<br>\n",
        "#@markdown /content/sdw/models/hypernetwork<br>\n",
        "from huggingface_hub import HfApi\n",
        "from pathlib import Path\n",
        "\n",
        "api = HfApi()\n",
        "file_path = \"/content/models/Anything-V3-vae-swapped.safetensors\" #@param {type :\"string\"}\n",
        "commit_message = \"Upload with 🚀🤗 NoCrypt's HUGGING FACE backup - Yoinked by Earth & Dusk\" #@param {type :\"string\"}\n",
        "\n",
        "if file_path != \"\":\n",
        "  path_obj = Path(file_path)\n",
        "  trained_model = path_obj.parts[-1]\n",
        "\n",
        "  print(f\"Uploading {trained_model} to https://huggingface.co/\"+model_repo)\n",
        "  print(f\"Please wait...\")\n",
        "\n",
        "  api.upload_file(\n",
        "      path_or_fileobj=file_path,\n",
        "      path_in_repo=trained_model,\n",
        "      repo_id=model_repo,\n",
        "      commit_message=commit_message,\n",
        "  )\n",
        "  \n",
        "  print(f\"Upload success, located at https://huggingface.co/\"+model_repo+\"/blob/main/\"+trained_model+\"\\n\")"
      ],
      "metadata": {
        "cellView": "form",
        "id": "C2eG303tK8jf"
      },
      "execution_count": null,
      "outputs": []
    },
    {
      "cell_type": "markdown",
      "source": [
        "# Upload Via GIT (supposedly more stable)"
      ],
      "metadata": {
        "id": "XC6J1mbdLczT"
      }
    },
    {
      "cell_type": "code",
      "source": [
        "#@title 3.3 Upload via GIT (more stable)\n",
        "%cd /content/\n",
        "file_path = \"/content/models/Anything-V3-vae-swapped.safetensors\" #@param {type :\"string\"}\n",
        "!ln {file_path} /content/{repo_name}/\n",
        "#@markdown Set **git commit identity**\n",
        "email = \"your-email\" #@param {'type': 'string'}\n",
        "name = \"your-username\" #@param {'type': 'string'}\n",
        "#@markdown Set **commit message**\n",
        "commit_m = \"Upload with 🚀🤗 NoCrypt's HUGGING FACE backup - Yoinked by Earth & Dusk\" #@param {'type': 'string'}\n",
        "\n",
        "%cd /content/{repo_name}\n",
        "\n",
        "!git lfs install --skip-smudge\n",
        "!export GIT_LFS_SKIP_SMUDGE=1\n",
        "!git pull -X theirs\n",
        "\n",
        "!git lfs install\n",
        "!huggingface-cli lfs-enable-largefiles .\n",
        "!git config --global user.email \"{email}\"\n",
        "!git config --global user.name \"{name}\"\n",
        "!git add .\n",
        "!git commit -m \"{commit_m}\"\n",
        "!git push"
      ],
      "metadata": {
        "cellView": "form",
        "id": "W2WL7sYTLXmN"
      },
      "execution_count": null,
      "outputs": []
    }
  ]
}