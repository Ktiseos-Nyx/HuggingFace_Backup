{
  "nbformat": 4,
  "nbformat_minor": 0,
  "metadata": {
    "colab": {
      "private_outputs": true,
      "provenance": [],
      "collapsed_sections": [
        "IZ_JYwvBLrg-",
        "PNF2kdyeO3Dn",
        "Xs1mb1VKLuUW",
        "jr9aTzQFLmfS",
        "XC6J1mbdLczT"
      ],
      "mount_file_id": "1HWCsjAL9sH3lpb-5YW8xzQNNqz_G5eNq",
      "authorship_tag": "ABX9TyOJTPmkJNirvpLz0+RlTN5K",
      "include_colab_link": true
    },
    "kernelspec": {
      "name": "python3",
      "display_name": "Python 3"
    },
    "language_info": {
      "name": "python"
    }
  },
  "cells": [
    {
      "cell_type": "markdown",
      "metadata": {
        "id": "view-in-github",
        "colab_type": "text"
      },
      "source": [
        "<a href=\"https://colab.research.google.com/github/kieranxsomer/HuggingFace_Backup/blob/main/HuggingFace_Backup.ipynb\" target=\"_parent\"><img src=\"https://colab.research.google.com/assets/colab-badge.svg\" alt=\"Open In Colab\"/></a>"
      ]
    },
    {
      "cell_type": "markdown",
      "source": [
        "# Hugging Face Backup - Upload your junk from Google Drive\n",
        "*Quickly upload stuff like merged models to huggingface*\n",
        "\n",
        "Run cell `1,2,3`\n",
        "\n",
        "You only need to choose one between `3.1,3.2,and 3.3`\n",
        "\n",
        "<small>Forked from LYNN - AND NOCRYPT - Literally just yoinked it from this notebook: https://colab.research.google.com/drive/1wEa-tS10h4LlDykd87TF5zzpXIIQoCmq\n",
        "\n",
        "WE TAKE NO CREDIT ON THIS. FOLLOW NOCRYPTS STUFF HERE: \n",
        "\n",
        "[![](https://dcbadge.vercel.app/api/shield/442099748669751297?style=flat)](https://lookup.guru/442099748669751297) [![ko-fi](https://img.shields.io/badge/Ko--fi-F16061?logo=ko-fi&logoColor=white&style=flat)](https://ko-fi.com/nocrypt) [![ko-fi](https://img.shields.io/badge/Patreon-F1465A?logo=patreon&logoColor=white&style=flat)](https://patreon.com/nocrypt) \n",
        "\n",
        "\n",
        "<small> You can find updates on NoCrypt's toys: https://discord.gg/touhouai\n",
        "\n",
        "<small> Earth & Dusk Discord because REASONS: https://discord.gg/5t2kYxt7An\n"
      ],
      "metadata": {
        "id": "CxgFI41UGzRu"
      }
    },
    {
      "cell_type": "markdown",
      "source": [
        "## How to set up the files\n",
        "\n",
        "What you need to NOW sadly is just replace certain \"code\" or locations with the locations of where you need to back up to your folder. \n",
        "\n",
        "### Double click on the `UPLOAD VIA HUGGINGFACE` section and see the following section:\n",
        "paths_map \n",
        "    \n",
        "    `Models`  /content/sdw/models/Stable-diffusion\n",
        "    \n",
        "    `VAEs`  /content/sdw/models/VAE\n",
        "    \n",
        "    `LORAs`  /content/sdw/models/Lora\n",
        "    \n",
        "    `Embeddings`  /content/sdw/embeddings\n",
        "   \n",
        "    `Hypernetworks`  /content/sdw/models/hypernetworks\n",
        "\n",
        "\n",
        "You will need to change the `MODELS` section or any of the above sections to whatever folder you're looking to back up.  It's easy as just looking on the side file browser, scrolling through and copying the path of the folder in question. \n",
        "\n",
        "Example: `/content/drive/MyDrive/cagliostro-colab-ui` may be your content folder you're looking for, just copy the path and paste it to one of the above sections.\n",
        "\n",
        "\n",
        "<small> Sadly I don't code. So there's no easier way of doing this LOL. \n",
        "\n",
        "### Also Note! \n",
        "\n",
        "Make sure you `MOUNT` your google drive, I've patched in `Imjoy-Elfinder` for kicks. - Visual people like this, I know I do.\n",
        "\n",
        "### MAKE SURE: \n",
        "\n",
        "You create a huggingface token, go to [this link](https://huggingface.co/settings/tokens), then `create new token` or copy available token with the `Write` role."
      ],
      "metadata": {
        "id": "ZRagfLYqIl31"
      }
    },
    {
      "cell_type": "markdown",
      "source": [
        "# Google Drive Mount \n",
        "<small> If you're NOT using drive, but have a way of uploading your files via command line - use the Imjoy-Elfinder section below. \n"
      ],
      "metadata": {
        "id": "IZ_JYwvBLrg-"
      }
    },
    {
      "cell_type": "code",
      "source": [
        "from google.colab import drive\n",
        "drive.mount('/content/drive')"
      ],
      "metadata": {
        "id": "cGrPfIjkH-rQ"
      },
      "execution_count": null,
      "outputs": []
    },
    {
      "cell_type": "markdown",
      "source": [
        "# Imjoy-Elfinder (Optional)\n",
        "<small> Useful if you need to check where files are OR you're not using google drive and have uploaded your files already."
      ],
      "metadata": {
        "id": "PNF2kdyeO3Dn"
      }
    },
    {
      "cell_type": "code",
      "source": [
        "!pip install imjoy-elfinder"
      ],
      "metadata": {
        "id": "JuhG4jksOsf4"
      },
      "execution_count": null,
      "outputs": []
    },
    {
      "cell_type": "code",
      "source": [
        "import threading\n",
        "from google.colab import output\n",
        "from imjoy_elfinder.app import main\n",
        "\n",
        "# start imjoy-elfinder server\n",
        "thread = threading.Thread(target=main, args=[[\"--root-dir=/content\", \"--port=8765\"]])\n",
        "thread.start()\n",
        "\n",
        "# view the \n",
        "output.serve_kernel_port_as_iframe(8765, height='800')"
      ],
      "metadata": {
        "id": "Z-gzXMPGPT5y"
      },
      "execution_count": null,
      "outputs": []
    },
    {
      "cell_type": "code",
      "source": [
        "# open imjoy-elfinder in a new tab\n",
        "output.serve_kernel_port_as_window(8765)"
      ],
      "metadata": {
        "id": "1KGuWqRMPVrf"
      },
      "execution_count": null,
      "outputs": []
    },
    {
      "cell_type": "markdown",
      "source": [
        "# Upload to Huggingface Hub (FUN WAY)\n"
      ],
      "metadata": {
        "id": "Xs1mb1VKLuUW"
      }
    },
    {
      "cell_type": "code",
      "source": [
        "#@title 1. Login to Huggingface hub\n",
        "try:\n",
        "  hub_ok # My packaged dep didn't contains this (but stil have the folder)\n",
        "except:\n",
        "  print(\"Setting up huggingface_hub...\")\n",
        "  !pip install --force-reinstall -qqqq huggingface_hub\n",
        "  hub_ok = True\n",
        "from IPython.display import clear_output\n",
        "from huggingface_hub import login\n",
        "clear_output()\n",
        "\n",
        "#@markdown 1. Of course, you need a Huggingface account first.\n",
        "#@markdown 2. To create a huggingface token, go to [this link](https://huggingface.co/settings/tokens), then `create new token` or copy available token with the `Write` role.\n",
        "\n",
        "write_token = \"\" #@param {type:\"string\"}\n",
        "login(write_token, add_to_git_credential=True)"
      ],
      "metadata": {
        "id": "1B8DZ_p8IcNh"
      },
      "execution_count": null,
      "outputs": []
    },
    {
      "cell_type": "code",
      "source": [
        "#@title 2. Setup Repo\n",
        "from huggingface_hub.utils import validate_repo_id, HfHubHTTPError\n",
        "from huggingface_hub import HfApi\n",
        "\n",
        "\n",
        "api = HfApi()\n",
        "user = api.whoami(write_token)\n",
        "\n",
        "#@markdown #### If your model repo didn't exist, it will automatically create your repo.\n",
        "repo_name = \"my_merged_models\" #@param{type:\"string\"}\n",
        "make_this_repo_private_if_not_exist = False #@param{type:\"boolean\"}\n",
        "clone_with_git = True #@param{type:\"boolean\"}\n",
        "\n",
        "model_repo = user['name']+\"/\"+repo_name.strip()\n",
        "\n",
        "validate_repo_id(model_repo)\n",
        "\n",
        "if repo_name != \"\":\n",
        "  try:\n",
        "      api.create_repo(repo_id=model_repo, \n",
        "                      private=make_this_repo_private_if_not_exist)\n",
        "      print(\"Model Repo didn't exists, creating repo\")\n",
        "      print(\"Model Repo: \",model_repo,\"created!\\n\")\n",
        "\n",
        "  except HfHubHTTPError as e:\n",
        "      print(f\"Model Repo: {model_repo} exists, skipping create repo\\n\")\n",
        "\n",
        "if clone_with_git:\n",
        "  !git lfs install --skip-smudge\n",
        "  !export GIT_LFS_SKIP_SMUDGE=1\n",
        "  !git clone https://huggingface.co/{model_repo} /content/{repo_name}"
      ],
      "metadata": {
        "cellView": "form",
        "id": "J851eLx6Ii3h"
      },
      "execution_count": null,
      "outputs": []
    },
    {
      "cell_type": "code",
      "source": [
        "\n",
        "import os\n",
        "import sys\n",
        "import ipywidgets as widgets\n",
        "from IPython.display import clear_output\n",
        "from huggingface_hub import HfApi, login\n",
        "from huggingface_hub.utils import validate_repo_id, HfHubHTTPError\n",
        "from IPython.utils import capture\n",
        "\n",
        "\n",
        "paths_map = {\n",
        "    \"Models\" : \"/content/sdw/models/Stable-diffusion\",\n",
        "    \"VAEs\" : \"/content/sdw/models/VAE\",\n",
        "    \"LORAs\" : \"/content/sdw/models/Lora\",\n",
        "    \"Embeddings\" : \"/content/sdw/embeddings\",\n",
        "    \"Hypernetworks\" : \"/content/sdw/models/hypernetworks\",\n",
        "}\n",
        "\n",
        "#@title  3.1 Upload via huggingface_hub (Fun way) \n",
        "#@markdown ## **How to use this?**<br>\n",
        "#@markdown 1. Run this cell after you ran the login cell\n",
        "#@markdown 2. Select model you want to upload (use `ctrl/shift` for multiple selection)\n",
        "#@markdown 3. Click on upload button\n",
        "folder = \"Models\" #@param [\"Models\", \"VAEs\", \"LORAs\", \"Embeddings\", \"Hypernetworks\"]\n",
        "commit_message = \"Upload with 🚀🤗 NoCrypt's HUGGING FACE backup - Yoinked by Earth & Dusk\"  #@param{type:\"string\"}\n",
        "\n",
        "models_path = paths_map[folder]\n",
        "upload_path = '/content/upload_models'\n",
        "\n",
        "api = HfApi()\n",
        "username_repo = user['name']+\"/\"+repo_name.strip()\n",
        "validate_repo_id(username_repo)\n",
        "\n",
        "def get_file_list(path):\n",
        "  res = []\n",
        "  for (dir_path, dir_names, file_names) in os.walk(path):\n",
        "      res.extend(file_names)\n",
        "  return res\n",
        "  \n",
        "selected = widgets.SelectMultiple(\n",
        "    options=get_file_list(models_path),\n",
        "    rows=10,\n",
        "    disabled=False,\n",
        ")\n",
        "\n",
        "button = widgets.Button(\n",
        "    description='Upload',\n",
        "    disabled=False,\n",
        "    button_style='success',\n",
        "    tooltip='Upload to huggingface',\n",
        ")\n",
        "dropdown = widgets.Dropdown(\n",
        "    options=paths_map.keys(),\n",
        "    value=folder,\n",
        "    description='Folder',\n",
        ")\n",
        "\n",
        "out = widgets.Output()\n",
        "\n",
        "def on_folder_change(change):\n",
        "  if change['type'] == 'change' and change['name'] == 'value':\n",
        "      models_path = paths_map[change[\"new\"]]\n",
        "      selected.options = get_file_list(models_path)\n",
        "\n",
        "def upload_it(b):\n",
        "  with out:\n",
        "    if selected.value is not None:\n",
        "      clear_output()\n",
        "      !mkdir -p {upload_path}\n",
        "      \n",
        "      \n",
        "      #hard link each file\n",
        "      for selected_model in selected.value:\n",
        "        if not os.path.exists(os.path.join(upload_path,selected_model)):\n",
        "          os.link(os.path.join(paths_map[dropdown.value],selected_model),os.path.join(upload_path,selected_model)) #hardlinking to save colab's space\n",
        "      \n",
        "      #delete .ipynb_checkpoint\n",
        "      if os.path.exists(os.path.join(upload_path,\".ipynb_checkpoints\")):\n",
        "        !rm {upload_path}/.ipynb_checkpoints\n",
        "      print(\"Selected:\", \", \".join(selected.value))\n",
        "      print(\"Uploading to https://huggingface.co/\"+username_repo)\n",
        "      print(\"Please wait... Might look stuck, but it's not 👍\")\n",
        "\n",
        "      # Comment this for file based upload\n",
        "      api.upload_folder(\n",
        "          folder_path=upload_path,\n",
        "          repo_id=username_repo,\n",
        "          commit_message=commit_message\n",
        "      )\n",
        "\n",
        "      # Uncomment for file based upload\n",
        "      # for filename in os.listdir(upload_path):\n",
        "      #   f = os.path.join(upload_path, filename)\n",
        "      #   # checking if it is a file\n",
        "      #   if os.path.isfile(f):\n",
        "      #     api.upload_file(\n",
        "      #       path_or_fileobj=f,\n",
        "      #       path_in_repo=filename,\n",
        "      #       repo_id=username_repo,\n",
        "      #       commit_message=commit_message\n",
        "      #     )\n",
        "      \n",
        "      print(\"Done!\")\n",
        "      #delete hardlink\n",
        "      !rm -rf {upload_path}/*\n",
        "    else:\n",
        "      print(\"Nothing is selected\")\n",
        "      \n",
        "dropdown.observe(on_folder_change)\n",
        "button.on_click(upload_it)\n",
        "print(\"Upload target: https://huggingface.co/\"+username_repo)\n",
        "print(\"👇 Select models you want to upload (use ctrl/shift for multiple selection) \")\n",
        "display(dropdown,selected,button,out)"
      ],
      "metadata": {
        "cellView": "form",
        "id": "uvNsFdPfIzdd"
      },
      "execution_count": null,
      "outputs": []
    },
    {
      "cell_type": "markdown",
      "source": [
        "# Manual Huggingface Uploads\n"
      ],
      "metadata": {
        "id": "jr9aTzQFLmfS"
      }
    },
    {
      "cell_type": "code",
      "source": [
        "#@title 3.2 Upload via huggingface_hub (Manual way)\n",
        "#@markdown If these are not your folder settings, feel free to just copy the path like you would have for the above \"FUN WAY\" section.\n",
        "\n",
        "#@markdown All paths for easier access:<br>\n",
        "#@markdown /content/sdw/models/Stable-diffusion<br>\n",
        "#@markdown /content/sdw/models/VAE<br>\n",
        "#@markdown /content/sdw/models/Lora<br>\n",
        "#@markdown /content/sdw/embeddings<br>\n",
        "#@markdown /content/sdw/models/hypernetwork<br>\n",
        "from huggingface_hub import HfApi\n",
        "from pathlib import Path\n",
        "\n",
        "api = HfApi()\n",
        "file_path = \"/content/models/Anything-V3-vae-swapped.safetensors\" #@param {type :\"string\"}\n",
        "commit_message = \"Upload with 🚀🤗 NoCrypt's HUGGING FACE backup - Yoinked by Earth & Dusk\" #@param {type :\"string\"}\n",
        "\n",
        "if file_path != \"\":\n",
        "  path_obj = Path(file_path)\n",
        "  trained_model = path_obj.parts[-1]\n",
        "\n",
        "  print(f\"Uploading {trained_model} to https://huggingface.co/\"+model_repo)\n",
        "  print(f\"Please wait...\")\n",
        "\n",
        "  api.upload_file(\n",
        "      path_or_fileobj=file_path,\n",
        "      path_in_repo=trained_model,\n",
        "      repo_id=model_repo,\n",
        "      commit_message=commit_message,\n",
        "  )\n",
        "  \n",
        "  print(f\"Upload success, located at https://huggingface.co/\"+model_repo+\"/blob/main/\"+trained_model+\"\\n\")"
      ],
      "metadata": {
        "cellView": "form",
        "id": "C2eG303tK8jf"
      },
      "execution_count": null,
      "outputs": []
    },
    {
      "cell_type": "markdown",
      "source": [
        "# Upload Via GIT (supposedly more stable)"
      ],
      "metadata": {
        "id": "XC6J1mbdLczT"
      }
    },
    {
      "cell_type": "code",
      "source": [
        "#@title 3.3 Upload via GIT (more stable)\n",
        "%cd /content/\n",
        "file_path = \"/content/models/Anything-V3-vae-swapped.safetensors\" #@param {type :\"string\"}\n",
        "!ln {file_path} /content/{repo_name}/\n",
        "#@markdown Set **git commit identity**\n",
        "email = \"your-email\" #@param {'type': 'string'}\n",
        "name = \"your-username\" #@param {'type': 'string'}\n",
        "#@markdown Set **commit message**\n",
        "commit_m = \"Upload with 🚀🤗 NoCrypt's HUGGING FACE backup - Yoinked by Earth & Dusk\" #@param {'type': 'string'}\n",
        "\n",
        "%cd /content/{repo_name}\n",
        "\n",
        "!git lfs install --skip-smudge\n",
        "!export GIT_LFS_SKIP_SMUDGE=1\n",
        "!git pull -X theirs\n",
        "\n",
        "!git lfs install\n",
        "!huggingface-cli lfs-enable-largefiles .\n",
        "!git config --global user.email \"{email}\"\n",
        "!git config --global user.name \"{name}\"\n",
        "!git add .\n",
        "!git commit -m \"{commit_m}\"\n",
        "!git push"
      ],
      "metadata": {
        "cellView": "form",
        "id": "W2WL7sYTLXmN"
      },
      "execution_count": null,
      "outputs": []
    }
  ]
}