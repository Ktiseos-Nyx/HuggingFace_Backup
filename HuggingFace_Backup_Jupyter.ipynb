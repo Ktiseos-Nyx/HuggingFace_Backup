{
 "cells": [
  {
   "cell_type": "markdown",
   "metadata": {
    "id": "CxgFI41UGzRu"
   },
   "source": [
    "# **Hugging Face Backup**\n",
    "<small> An extremely weird fork of content from Nocrypt's notebook, and as well as EveryDream2Trainer for JupyterLabs by a DID system that has no clue how to code. We'd call it opinionated! This is MISSING google stuff, we want to MAYBE add ocalmfuse to it eventually, it is NOW missing EMJOY finder because it's useless in a jupyter environment. (It is! LOL you can easy find stuff otherwise!)\n",
    "\n",
    "*Quickly upload stuff like merged models to huggingface*\n",
    "-----------------\n",
    "\n",
    "\n",
    "-----------------\n",
    "## ♦♦ **JUPYTER NOTEBOOK UPDATES** ♦♦\n",
    "    \n",
    "-----------------\n",
    "    \n",
    "If you've copied this to drive and it's no longer working check here: https://github.com/kieranxsomer/HuggingFace_Backup\n",
    "\n",
    "-----------------\n",
    "\n",
    "##  **HUGGING FACE HUB BACKUP** \n",
    "\n",
    "At the moment this only supports CHECKPOINTS, rather than full backups. In THEORY this works on a local machine at the moment, but am going to try and get it to start working on runpod and vast. \n",
    "\n",
    "### ☢☢ **MAKE SURE:** ☢☢\n",
    "\n",
    "You create a huggingface token, go to [this link](https://huggingface.co/settings/tokens), then `create new token` or copy available token with the `Write` role.\n",
    "\n",
    "-----------------\n",
    "### ***Forked from - EVERYDREAM2 TRAINER - LYNN - AND NOCRYPT - Literally just yoinked it from this notebook:***\n",
    "    \n",
    "**https://colab.research.google.com/drive/1wEa-tS10h4LlDykd87TF5zzpXIIQoCmq** \n",
    "    \n",
    "**https://github.com/victorchall/EveryDream2trainer**\n",
    "\n",
    "-----------------\n",
    "\n",
    "## Support? \n",
    "\n",
    "Earth and Dusk Discord because REASONS: https://discord.gg/5t2kYxt7An\n",
    "\n",
    "Support my stupid lack of coding here: https://ko-fi.com/duskfallcrew\n",
    "\n",
    "-----------------\n",
    "\n",
    "\n",
    "CHANGES SINCE COLAB VERSION\n",
    "    \n",
    "    1. Yoinked 90% of the code from EveryDream2Trainer\n",
    "    2. Keeping Credit for Nocrypt because that's who made the original stuff.\n",
    "    3. ATTEMPTING to get the requirements IN The notebook in case it legit cries\n",
    "    4. Crawed into a hole nobody can find me now - *hiding under a rock*\n",
    "\n",
    "\n",
    "\n",
    "\n",
    "\n",
    "\n"
   ]
  },
  {
   "cell_type": "markdown",
   "metadata": {},
   "source": [
    "# Install Requirements\n",
    "\n",
    "In theory this is collecting all the requirements, if i'm missing any then wait for an update or head into terminal and patch it yourself. (That's not sarcasm, i'm slow to fixing things, i'm a patchter not a programmer!) "
   ]
  },
  {
   "cell_type": "code",
   "execution_count": null,
   "metadata": {},
   "outputs": [],
   "source": [
    "pip install glob2\n",
    "pip install --force-reinstall -qqqq huggingface_hub\n",
    "pip install transformers\n",
    "pip install ipywidgets"
   ]
  },
  {
   "cell_type": "markdown",
   "metadata": {
    "id": "Xs1mb1VKLuUW"
   },
   "source": [
    "# HuggingFace Upload/Download (Optional)\n",
    "Run the cell below and paste your token into the prompt.  You can get your token from your [huggingface account page](https://huggingface.co/settings/tokens).\n",
    "\n",
    "The token will not show on the screen, just press enter after you paste it.\n",
    "\n",
    "### Make sure to run this login cell for any Huggingface uploads or private downloads.\n"
   ]
  },
  {
   "cell_type": "code",
   "execution_count": null,
   "metadata": {},
   "outputs": [],
   "source": [
    "from huggingface_hub import notebook_login, hf_hub_download\n",
    "import os\n",
    "notebook_login()"
   ]
  },
  {
   "cell_type": "markdown",
   "metadata": {},
   "source": [
    "## Upload files from a folder\n",
    "\n",
    "You'll need to note in \"REPO\" where you're uploading to - please go TO your model page or sorry your user page, create a new repo.  This means that unlike colab, where it can CREATE ONE - somehow on jupyter lab it's easier to just have one pre created.\n",
    "\n",
    "THIS SHOULD give you a choice to Upload ALL OF THE FIILESS!"
   ]
  },
  {
   "cell_type": "code",
   "execution_count": null,
   "metadata": {
    "cellView": "form",
    "id": "J851eLx6Ii3h"
   },
   "outputs": [],
   "source": [
    "import glob\n",
    "import os\n",
    "from huggingface_hub import HfApi\n",
    "from ipywidgets import *\n",
    "\n",
    "all_ckpts = [f for f in glob.glob(\"*.ckpt\")]\n",
    "  \n",
    "ckpt_picker = SelectMultiple(options=all_ckpts, layout=Layout(width=\"600px\")) \n",
    "hfuser = Text(placeholder='Duskfallcrew')\n",
    "hfrepo = Text(placeholder='TheIntrojectSociety')\n",
    "\n",
    "api = HfApi()\n",
    "upload_btn = Button(description='Upload')\n",
    "out = Output()\n",
    "\n",
    "def upload_ckpts(_):\n",
    "    repo_id=f\"{hfuser.value or hfuser.placeholder}/{hfrepo.value or hfrepo.placeholder}\"\n",
    "    with out:\n",
    "        if ckpt_picker is None or len(ckpt_picker.value) < 1:\n",
    "            print(\"Nothing selected for upload, make sure to click one of the ckpt files in the list, or, you have no ckpt files in the current directory.\")\n",
    "        for ckpt in ckpt_picker.value:\n",
    "            print(f\"Uploading to HF: huggingface.co/{repo_id}/{ckpt}\")\n",
    "            response = api.upload_file(\n",
    "                path_or_fileobj=ckpt,\n",
    "                path_in_repo=ckpt,\n",
    "                repo_id=repo_id,\n",
    "                repo_type=None,\n",
    "                create_pr=1,\n",
    "                commit_message = \"Upload with 🤗 Earth & Dusk's Amazing HF Backup for Vast & Runpod\"\n",
    "            )\n",
    "            display(response)\n",
    "        print(\"DONE\")\n",
    "        print(\"Go to your repo and accept the PRs this created to see your files\")\n",
    "\n",
    "upload_btn.on_click(upload_ckpts)\n",
    "box = VBox([ckpt_picker, HBox([hfuser, hfrepo]), upload_btn, out])\n",
    "\n",
    "display(box)"
   ]
  }
 ],
 "metadata": {
  "colab": {
   "collapsed_sections": [
    "IZ_JYwvBLrg-",
    "PNF2kdyeO3Dn"
   ],
   "private_outputs": true,
   "provenance": []
  },
  "kernelspec": {
   "display_name": "Python 3 (ipykernel)",
   "language": "python",
   "name": "python3"
  },
  "language_info": {
   "codemirror_mode": {
    "name": "ipython",
    "version": 3
   },
   "file_extension": ".py",
   "mimetype": "text/x-python",
   "name": "python",
   "nbconvert_exporter": "python",
   "pygments_lexer": "ipython3",
   "version": "3.10.9"
  }
 },
 "nbformat": 4,
 "nbformat_minor": 1
}
